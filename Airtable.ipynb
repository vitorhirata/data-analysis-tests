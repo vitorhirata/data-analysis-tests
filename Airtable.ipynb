{
 "cells": [
  {
   "cell_type": "code",
   "execution_count": 1,
   "metadata": {},
   "outputs": [],
   "source": [
    "%load_ext autoreload\n",
    "%autoreload\n",
    "%reload_ext autoreload"
   ]
  },
  {
   "cell_type": "code",
   "execution_count": 2,
   "metadata": {},
   "outputs": [],
   "source": [
    "from pprint import pprint\n",
    "from airtable import Airtable"
   ]
  },
  {
   "cell_type": "code",
   "execution_count": 3,
   "metadata": {},
   "outputs": [
    {
     "name": "stdout",
     "output_type": "stream",
     "text": [
      "<Airtable table:Table 1>\n"
     ]
    }
   ],
   "source": [
    "api_key = \"keyTiyRVOt65E9Dgv\"\n",
    "base_key = \"appuE7MD2T8GHr8ra\"\n",
    "table_name = 'Table 1'\n",
    "airtable = Airtable(base_key, table_name, api_key=api_key)\n",
    "print(airtable)"
   ]
  },
  {
   "cell_type": "code",
   "execution_count": 4,
   "metadata": {},
   "outputs": [
    {
     "name": "stdout",
     "output_type": "stream",
     "text": [
      "{'createdTime': '2018-07-05T16:25:32.000Z',\n",
      " 'fields': {'Name': 'Pedro', 'Notes': '9'},\n",
      " 'id': 'recHxesaZDyWO5643'}\n",
      "{'createdTime': '2018-07-05T03:23:07.000Z',\n",
      " 'fields': {'Name': 'Joao', 'Notes': '9'},\n",
      " 'id': 'recJbK4mzoPGa90KQ'}\n"
     ]
    }
   ],
   "source": [
    "pages = airtable.get_iter(maxRecords=2)\n",
    "\n",
    "for page in pages:\n",
    "    for record in page:\n",
    "        pprint(record)"
   ]
  },
  {
   "cell_type": "code",
   "execution_count": 5,
   "metadata": {},
   "outputs": [
    {
     "data": {
      "text/plain": [
       "{'id': 'rec1PDeC7iqed8YNN',\n",
       " 'fields': {'Name': 'Pedro', 'Notes': '9'},\n",
       " 'createdTime': '2018-07-06T14:25:21.572Z'}"
      ]
     },
     "execution_count": 5,
     "metadata": {},
     "output_type": "execute_result"
    }
   ],
   "source": [
    "airtable.insert({'Name': 'Pedro', 'Notes': '9'})"
   ]
  },
  {
   "cell_type": "code",
   "execution_count": 6,
   "metadata": {},
   "outputs": [
    {
     "data": {
      "text/plain": [
       "[{'id': 'rec1PDeC7iqed8YNN',\n",
       "  'fields': {'Name': 'Pedro', 'Notes': '9'},\n",
       "  'createdTime': '2018-07-06T14:25:21.572Z'},\n",
       " {'id': 'recHxesaZDyWO5643',\n",
       "  'fields': {'Name': 'Pedro', 'Notes': '9'},\n",
       "  'createdTime': '2018-07-05T16:25:32.000Z'}]"
      ]
     },
     "execution_count": 6,
     "metadata": {},
     "output_type": "execute_result"
    }
   ],
   "source": [
    "airtable.search('name', 'Pedro')"
   ]
  },
  {
   "cell_type": "code",
   "execution_count": null,
   "metadata": {},
   "outputs": [],
   "source": []
  },
  {
   "cell_type": "code",
   "execution_count": null,
   "metadata": {},
   "outputs": [],
   "source": []
  }
 ],
 "metadata": {
  "kernelspec": {
   "display_name": "Python 3",
   "language": "python",
   "name": "python3"
  },
  "language_info": {
   "codemirror_mode": {
    "name": "ipython",
    "version": 3
   },
   "file_extension": ".py",
   "mimetype": "text/x-python",
   "name": "python",
   "nbconvert_exporter": "python",
   "pygments_lexer": "ipython3",
   "version": "3.7.0"
  }
 },
 "nbformat": 4,
 "nbformat_minor": 2
}
